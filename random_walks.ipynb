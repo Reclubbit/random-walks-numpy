{
 "cells": [
  {
   "cell_type": "code",
   "execution_count": null,
   "id": "16182eac-4f17-4b40-ba19-bf8b3a86ec6f",
   "metadata": {},
   "outputs": [],
   "source": [
    "import numpy as np\n",
    "import matplotlib.pyplot as plt\n",
    "from IPython.core.interactiveshell import InteractiveShell\n",
    "InteractiveShell.ast_node_interactivity = \"all\"\n",
    "np.set_printoptions(threshold=10, edgeitems=5)"
   ]
  },
  {
   "cell_type": "markdown",
   "id": "f8ceafcd-6621-4e06-ac40-c029e7e556c6",
   "metadata": {},
   "source": [
    "定义漫步次数、步数、维度"
   ]
  },
  {
   "cell_type": "code",
   "execution_count": null,
   "id": "427174c8-eba3-4b16-8e3b-7d8e5cfe79ca",
   "metadata": {},
   "outputs": [],
   "source": [
    "N = 5000\n",
    "nsteps = 1000\n",
    "dim = 3"
   ]
  },
  {
   "cell_type": "code",
   "execution_count": null,
   "id": "7923eede-9647-4bc6-acee-21eb6358e01a",
   "metadata": {},
   "outputs": [],
   "source": [
    "walks = np.arange(N)\n",
    "steps = np.arange(nsteps)"
   ]
  },
  {
   "cell_type": "markdown",
   "id": "bbad053a-0823-4a8e-80b9-4ba93be6469a",
   "metadata": {},
   "source": [
    "对每次漫步的每一步，随机一个移动维度和移动距离"
   ]
  },
  {
   "cell_type": "code",
   "execution_count": null,
   "id": "cb03e6a4-b3da-41b8-a423-6a6762dc0d9d",
   "metadata": {},
   "outputs": [],
   "source": [
    "rng = np.random.default_rng()\n",
    "dim_indices = rng.integers(0, dim, size=(N, nsteps))\n",
    "distances = np.random.choice((1, -1), size=(N, nsteps))\n",
    "dim_indices\n",
    "distances"
   ]
  },
  {
   "cell_type": "markdown",
   "id": "61431cf5-79f7-407c-b3bf-f3c17b6e1bbb",
   "metadata": {},
   "source": [
    "初始化位移向量，并根据选取的维度用移动距离赋值"
   ]
  },
  {
   "cell_type": "code",
   "execution_count": null,
   "id": "8f436ab7-a741-47fd-8a7d-db3ed3b5d1a6",
   "metadata": {},
   "outputs": [],
   "source": [
    "# %%timeit\n",
    "walk_indices = np.repeat(walks, nsteps).reshape(N, nsteps)\n",
    "step_indices = np.tile(steps, N).reshape(N, nsteps)\n",
    "displacement_vectors = np.zeros((N, nsteps, dim))\n",
    "displacement_vectors[walk_indices, step_indices, dim_indices] = distances\n",
    "walk_indices\n",
    "step_indices\n",
    "displacement_vectors"
   ]
  },
  {
   "cell_type": "markdown",
   "id": "58c2a2b0-7eb8-4f15-af8f-c92010d80a5c",
   "metadata": {},
   "source": [
    "可能的另一种实现方式，但似乎无法输出结果"
   ]
  },
  {
   "cell_type": "code",
   "execution_count": null,
   "id": "650c17fd-6d6b-496b-a140-7be5213e9f41",
   "metadata": {},
   "outputs": [],
   "source": [
    "# # %%timeit\n",
    "# displacement_vectors = np.zeros((N, nsteps, dim))\n",
    "# displacement_vectors[:, :, dim_indices] = distances\n",
    "# displacement_vectors"
   ]
  },
  {
   "cell_type": "markdown",
   "id": "87437cf2-88c5-45e7-bc09-d4708f4433e2",
   "metadata": {},
   "source": [
    "累加位移向量，获得每次每步的位置"
   ]
  },
  {
   "cell_type": "code",
   "execution_count": null,
   "id": "bf72eb13-ab2f-48b0-99d4-e047b656af80",
   "metadata": {},
   "outputs": [],
   "source": [
    "pos_without_start = displacement_vectors.cumsum(axis=1)\n",
    "pos_without_start"
   ]
  },
  {
   "cell_type": "markdown",
   "id": "3538bed2-59d3-4d80-87cd-73adb046fd7c",
   "metadata": {},
   "source": [
    "在每次漫步的第一步插入起始位置"
   ]
  },
  {
   "cell_type": "code",
   "execution_count": null,
   "id": "1de6f7be-dd92-4b7d-9f93-52550e887efb",
   "metadata": {},
   "outputs": [],
   "source": [
    "start_pos = np.zeros((N, 1, dim))\n",
    "pos = np.concatenate((start_pos, pos_without_start), axis=1)\n",
    "pos"
   ]
  },
  {
   "cell_type": "markdown",
   "id": "1bee1517-1766-4cbe-a1de-e40514fc76f7",
   "metadata": {},
   "source": [
    "计算每次每步的位置与原点的欧氏距离"
   ]
  },
  {
   "cell_type": "code",
   "execution_count": null,
   "id": "50564525-45e7-4406-a725-7c64135329cd",
   "metadata": {},
   "outputs": [],
   "source": [
    "euclidean_distance = np.linalg.norm(pos, ord=2, axis=2)\n",
    "euclidean_distance\n",
    "euclidean_distance.shape"
   ]
  },
  {
   "cell_type": "markdown",
   "id": "9d7a2d12-f9b6-4e60-9826-6845309c10aa",
   "metadata": {},
   "source": [
    "计算欧氏距离超过30的漫步的次数"
   ]
  },
  {
   "cell_type": "code",
   "execution_count": null,
   "id": "bbe87d5a-1fdc-4a6a-861b-a27041b91890",
   "metadata": {},
   "outputs": [],
   "source": [
    "arrive30 = (euclidean_distance >= 30).any(axis=1)\n",
    "arrive30\n",
    "arrive30.sum()"
   ]
  },
  {
   "cell_type": "markdown",
   "id": "211ebe90-1e92-4c66-bd62-b5c9d3bfda17",
   "metadata": {},
   "source": [
    "计算抵达目标距离的漫步的平均最小抵达时间"
   ]
  },
  {
   "cell_type": "code",
   "execution_count": null,
   "id": "2a16c890-8cef-4405-a541-3314c3814913",
   "metadata": {},
   "outputs": [],
   "source": [
    "arrive30_times = (euclidean_distance[arrive30] >= 30).argmax(axis=1)\n",
    "(euclidean_distance[arrive30] >= 30).shape\n",
    "arrive30_times\n",
    "arrive30_times.mean()"
   ]
  },
  {
   "cell_type": "markdown",
   "id": "3b2270d3-f461-42f4-9ec7-3da22a479e81",
   "metadata": {},
   "source": [
    "随机选择10次漫步，并绘制三维路线图"
   ]
  },
  {
   "cell_type": "code",
   "execution_count": null,
   "id": "f65edbc6-b498-4217-ba69-967cf3d3698c",
   "metadata": {},
   "outputs": [],
   "source": [
    "selected_indices = np.random.choice(N, size=10, replace=False)\n",
    "selected_walks = pos[selected_indices]\n",
    "selected_indices\n",
    "selected_walks"
   ]
  },
  {
   "cell_type": "code",
   "execution_count": null,
   "id": "89810b1e-2e63-4311-8f4e-47578784c4a1",
   "metadata": {},
   "outputs": [],
   "source": [
    "fig = plt.figure(figsize=(14, 12), dpi=300)\n",
    "ax = fig.add_subplot(111, projection='3d')\n",
    "\n",
    "for walk in selected_walks:\n",
    "    x = walk[:, 0]  # x坐标序列\n",
    "    y = walk[:, 1]  # y坐标序列\n",
    "    z = walk[:, 2]  # z坐标序列\n",
    "    ax.plot(x, y, z, alpha=0.3, lw=0.8, color='blue')\n",
    "\n",
    "ax.set_xlabel('X')\n",
    "ax.set_ylabel('Y')\n",
    "ax.set_zlabel('Z')\n",
    "ax.set_title('三维随机漫步（选取10次）')\n",
    "ax.grid(True, alpha=0.2)  # 浅色网格线\n",
    "ax.view_init(elev=30, azim=45)  # 调整视角（仰角30°，方位角45°）\n",
    "plt.rcParams['font.sans-serif'] = ['SimHei']  # 用来正常显示中文标签\n",
    "plt.rcParams['axes.unicode_minus'] = False\n",
    "\n",
    "# plt.savefig('3d_walk_highres.png', dpi=300, bbox_inches='tight') # 用于将生成的图片保存为文件\n",
    "plt.show()"
   ]
  }
 ],
 "metadata": {
  "kernelspec": {
   "display_name": "Python(myenv)",
   "language": "python",
   "name": "myenv"
  },
  "language_info": {
   "codemirror_mode": {
    "name": "ipython",
    "version": 3
   },
   "file_extension": ".py",
   "mimetype": "text/x-python",
   "name": "python",
   "nbconvert_exporter": "python",
   "pygments_lexer": "ipython3",
   "version": "3.12.9"
  }
 },
 "nbformat": 4,
 "nbformat_minor": 5
}
